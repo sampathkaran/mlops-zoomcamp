{
 "cells": [
  {
   "cell_type": "code",
   "execution_count": 54,
   "id": "0a0ad6e7",
   "metadata": {},
   "outputs": [
    {
     "name": "stdout",
     "output_type": "stream",
     "text": [
      "Python 3.9.12\r\n"
     ]
    }
   ],
   "source": [
    "!python -V"
   ]
  },
  {
   "cell_type": "code",
   "execution_count": 55,
   "id": "4bc77869",
   "metadata": {},
   "outputs": [],
   "source": [
    "import pandas as pd"
   ]
  },
  {
   "cell_type": "code",
   "execution_count": 214,
   "id": "006c447b",
   "metadata": {},
   "outputs": [],
   "source": [
    "import pickle"
   ]
  },
  {
   "cell_type": "code",
   "execution_count": 56,
   "id": "94494094",
   "metadata": {},
   "outputs": [],
   "source": [
    "import seaborn as sns\n",
    "import matplotlib.pyplot as plt"
   ]
  },
  {
   "cell_type": "code",
   "execution_count": 207,
   "id": "42a6d7b1",
   "metadata": {},
   "outputs": [],
   "source": [
    "from sklearn.feature_extraction import DictVectorizer\n",
    "from sklearn.linear_model import LinearRegression\n",
    "from sklearn.linear_model import Lasso\n",
    "from sklearn.linear_model import Ridge\n",
    "from sklearn.metrics import mean_squared_error"
   ]
  },
  {
   "cell_type": "code",
   "execution_count": 134,
   "id": "593d0935",
   "metadata": {},
   "outputs": [],
   "source": [
    "df = pd.read_parquet('https://d37ci6vzurychx.cloudfront.net/trip-data/green_tripdata_2021-01.parquet')\n",
    "df['duration'] = df.lpep_dropoff_datetime - df.lpep_pickup_datetime\n",
    "df.duration = df.duration.apply(lambda x: x.total_seconds() / 60)\n",
    "df = df[((df.duration >= 1) & (df.duration <=60))]\n",
    "categorical = ['PULocationID', 'DOLocationID']\n",
    "numerical = ['trip_distance']\n",
    "df[categorical] = df[categorical].astype(str)"
   ]
  },
  {
   "cell_type": "code",
   "execution_count": 135,
   "id": "7e4740dd",
   "metadata": {},
   "outputs": [],
   "source": [
    "#df = pd.read_parquet('https://d37ci6vzurychx.cloudfront.net/trip-data/green_tripdata_2021-01.parquet')"
   ]
  },
  {
   "cell_type": "code",
   "execution_count": 136,
   "id": "6d1279f1",
   "metadata": {},
   "outputs": [],
   "source": [
    "#df"
   ]
  },
  {
   "cell_type": "code",
   "execution_count": 137,
   "id": "ffb973c3",
   "metadata": {},
   "outputs": [],
   "source": [
    "#trip type 1 is hailing and 2 is dispatch"
   ]
  },
  {
   "cell_type": "code",
   "execution_count": 138,
   "id": "ea6a2901",
   "metadata": {},
   "outputs": [],
   "source": [
    "#df[df.trip_type == 2]"
   ]
  },
  {
   "cell_type": "code",
   "execution_count": 139,
   "id": "85ec78a4",
   "metadata": {},
   "outputs": [],
   "source": [
    "#df.trip_type == 2"
   ]
  },
  {
   "cell_type": "code",
   "execution_count": 140,
   "id": "9b103001",
   "metadata": {},
   "outputs": [],
   "source": [
    "#df = df[df.trip_type == 2]"
   ]
  },
  {
   "cell_type": "code",
   "execution_count": 141,
   "id": "bb8deb38",
   "metadata": {},
   "outputs": [],
   "source": [
    "#df"
   ]
  },
  {
   "cell_type": "code",
   "execution_count": 142,
   "id": "0a34d46a",
   "metadata": {},
   "outputs": [],
   "source": [
    "# we will predict the duration here, so we need tio subtracr dropoff - pckup time"
   ]
  },
  {
   "cell_type": "code",
   "execution_count": 143,
   "id": "eb4d9220",
   "metadata": {},
   "outputs": [],
   "source": [
    "# here pandas takes the above time as string to make understand it time we will convert"
   ]
  },
  {
   "cell_type": "code",
   "execution_count": 144,
   "id": "9f1594e1",
   "metadata": {},
   "outputs": [],
   "source": [
    "#df.lpep_dropoff_datetime - df.lpep_pickup_datetime"
   ]
  },
  {
   "cell_type": "code",
   "execution_count": 145,
   "id": "48175072",
   "metadata": {},
   "outputs": [],
   "source": [
    "#df['duration'] = df.lpep_dropoff_datetime - df.lpep_pickup_datetime"
   ]
  },
  {
   "cell_type": "code",
   "execution_count": 146,
   "id": "1a9721cf",
   "metadata": {},
   "outputs": [],
   "source": [
    "#df"
   ]
  },
  {
   "cell_type": "code",
   "execution_count": 147,
   "id": "31be1f43",
   "metadata": {},
   "outputs": [],
   "source": [
    "#df = df.reset_index(drop=True)"
   ]
  },
  {
   "cell_type": "code",
   "execution_count": 148,
   "id": "8233daa8",
   "metadata": {
    "scrolled": true
   },
   "outputs": [],
   "source": [
    "#df"
   ]
  },
  {
   "cell_type": "code",
   "execution_count": 149,
   "id": "b64f1486",
   "metadata": {},
   "outputs": [],
   "source": [
    "#convert duration to readabl format ie in mins"
   ]
  },
  {
   "cell_type": "code",
   "execution_count": 150,
   "id": "975abfda",
   "metadata": {},
   "outputs": [],
   "source": [
    "#df.duration.iloc[0]"
   ]
  },
  {
   "cell_type": "code",
   "execution_count": 151,
   "id": "c035ea89",
   "metadata": {},
   "outputs": [],
   "source": [
    "#td = df.duration.iloc[0]"
   ]
  },
  {
   "cell_type": "code",
   "execution_count": 152,
   "id": "33ee418a",
   "metadata": {},
   "outputs": [],
   "source": [
    "#td.total_seconds()/60"
   ]
  },
  {
   "cell_type": "code",
   "execution_count": 153,
   "id": "fabf3ee9",
   "metadata": {},
   "outputs": [],
   "source": [
    "#df.duration = df.duration.apply(lambda x: x.total_seconds() / 60)"
   ]
  },
  {
   "cell_type": "code",
   "execution_count": 154,
   "id": "55140f51",
   "metadata": {},
   "outputs": [],
   "source": [
    "#df"
   ]
  },
  {
   "cell_type": "code",
   "execution_count": 155,
   "id": "55133dc6",
   "metadata": {},
   "outputs": [],
   "source": [
    "#sns.displot(df.duration)"
   ]
  },
  {
   "cell_type": "code",
   "execution_count": 156,
   "id": "1c8a0720",
   "metadata": {},
   "outputs": [],
   "source": [
    "#df.duration.describe()"
   ]
  },
  {
   "cell_type": "code",
   "execution_count": 157,
   "id": "2b6b66e4",
   "metadata": {},
   "outputs": [],
   "source": [
    "#df.duration.describe(percentiles=[0.99, 0.95, 0.98])"
   ]
  },
  {
   "cell_type": "code",
   "execution_count": 158,
   "id": "9c463d85",
   "metadata": {},
   "outputs": [],
   "source": [
    "# so here most of the values are under 60 mins as you could see 98 % of values under 59"
   ]
  },
  {
   "cell_type": "code",
   "execution_count": 159,
   "id": "fda1af57",
   "metadata": {},
   "outputs": [],
   "source": [
    "#((df.duration >= 1) & (df.duration <=60)).mean() "
   ]
  },
  {
   "cell_type": "code",
   "execution_count": 160,
   "id": "9cc52dcb",
   "metadata": {},
   "outputs": [],
   "source": [
    "#df[((df.duration >= 1) & (df.duration <=60))]"
   ]
  },
  {
   "cell_type": "code",
   "execution_count": 161,
   "id": "7fbe4531",
   "metadata": {},
   "outputs": [],
   "source": [
    "#df = df[((df.duration >= 1) & (df.duration <=60))]"
   ]
  },
  {
   "cell_type": "code",
   "execution_count": 162,
   "id": "3eb3dd6f",
   "metadata": {},
   "outputs": [],
   "source": [
    "#df"
   ]
  },
  {
   "cell_type": "code",
   "execution_count": 163,
   "id": "0c64f2de",
   "metadata": {},
   "outputs": [],
   "source": [
    "# filtering some values"
   ]
  },
  {
   "cell_type": "code",
   "execution_count": 164,
   "id": "250780f4",
   "metadata": {},
   "outputs": [],
   "source": [
    "#df.dtypes"
   ]
  },
  {
   "cell_type": "code",
   "execution_count": 165,
   "id": "8b7a575a",
   "metadata": {},
   "outputs": [],
   "source": [
    "#categorical = ['PULocationID', 'DOLocationID']\n",
    "#numerical = ['trip_distance']"
   ]
  },
  {
   "cell_type": "code",
   "execution_count": 166,
   "id": "85341de4",
   "metadata": {},
   "outputs": [],
   "source": [
    "# now train the model"
   ]
  },
  {
   "cell_type": "code",
   "execution_count": 167,
   "id": "a8db73ea",
   "metadata": {},
   "outputs": [],
   "source": [
    "#df[categorical]"
   ]
  },
  {
   "cell_type": "code",
   "execution_count": 168,
   "id": "4b979112",
   "metadata": {},
   "outputs": [],
   "source": [
    "#df[categorical].dtypes"
   ]
  },
  {
   "cell_type": "code",
   "execution_count": 169,
   "id": "7a3c08b5",
   "metadata": {},
   "outputs": [],
   "source": [
    "# onehot encoding treat above as number so we convert to string\n"
   ]
  },
  {
   "cell_type": "code",
   "execution_count": 170,
   "id": "66a6be71",
   "metadata": {},
   "outputs": [],
   "source": [
    "#df[categorical].astype(str).dtypes"
   ]
  },
  {
   "cell_type": "code",
   "execution_count": 171,
   "id": "884d60c7",
   "metadata": {},
   "outputs": [],
   "source": [
    "#df[categorical]"
   ]
  },
  {
   "cell_type": "code",
   "execution_count": 172,
   "id": "49a51894",
   "metadata": {},
   "outputs": [],
   "source": [
    "#df[categorical] = df[categorical].astype(str)"
   ]
  },
  {
   "cell_type": "code",
   "execution_count": 173,
   "id": "2196c554",
   "metadata": {},
   "outputs": [],
   "source": [
    "#df[categorical]"
   ]
  },
  {
   "cell_type": "code",
   "execution_count": 174,
   "id": "2bee21b9",
   "metadata": {},
   "outputs": [],
   "source": [
    "#df[categorical].dtypes"
   ]
  },
  {
   "cell_type": "code",
   "execution_count": 175,
   "id": "577b240e",
   "metadata": {},
   "outputs": [],
   "source": [
    "#df.dtypes"
   ]
  },
  {
   "cell_type": "code",
   "execution_count": 176,
   "id": "8b2f7af7",
   "metadata": {},
   "outputs": [],
   "source": [
    "#convert dataframe to dictonaries"
   ]
  },
  {
   "cell_type": "code",
   "execution_count": 177,
   "id": "3e91e302",
   "metadata": {},
   "outputs": [],
   "source": [
    "#df[categorical + numerical].iloc[:10]"
   ]
  },
  {
   "cell_type": "code",
   "execution_count": 178,
   "id": "a5e5a5b6",
   "metadata": {},
   "outputs": [],
   "source": [
    "#df[categorical + numerical].iloc[:10].to_dict(orient='records')"
   ]
  },
  {
   "cell_type": "code",
   "execution_count": 179,
   "id": "90cc7afa",
   "metadata": {},
   "outputs": [],
   "source": [
    "#train_dict = df[categorical + numerical].to_dict(orient='records')"
   ]
  },
  {
   "cell_type": "code",
   "execution_count": 180,
   "id": "036ca423",
   "metadata": {},
   "outputs": [],
   "source": [
    "#train_dict"
   ]
  },
  {
   "cell_type": "code",
   "execution_count": 181,
   "id": "4a6a84ed",
   "metadata": {},
   "outputs": [],
   "source": [
    "#dv = DictVectorizer()"
   ]
  },
  {
   "cell_type": "code",
   "execution_count": 182,
   "id": "d0304f2c",
   "metadata": {},
   "outputs": [],
   "source": [
    "#X_train = dv.fit_transform(train_dict)"
   ]
  },
  {
   "cell_type": "code",
   "execution_count": 183,
   "id": "ea92b83c",
   "metadata": {},
   "outputs": [],
   "source": [
    "#X_train"
   ]
  },
  {
   "cell_type": "code",
   "execution_count": 184,
   "id": "f0cd2953",
   "metadata": {},
   "outputs": [],
   "source": [
    "#dv.feature_names_"
   ]
  },
  {
   "cell_type": "code",
   "execution_count": 185,
   "id": "21f7e766",
   "metadata": {},
   "outputs": [],
   "source": [
    "#target = 'duration'"
   ]
  },
  {
   "cell_type": "code",
   "execution_count": 186,
   "id": "083c027a",
   "metadata": {},
   "outputs": [],
   "source": [
    "#y_train= df[target].values"
   ]
  },
  {
   "cell_type": "code",
   "execution_count": 187,
   "id": "193326b9",
   "metadata": {},
   "outputs": [],
   "source": [
    "#y_train"
   ]
  },
  {
   "cell_type": "code",
   "execution_count": 188,
   "id": "d7846ca1",
   "metadata": {},
   "outputs": [],
   "source": [
    "#lr  = LinearRegression()"
   ]
  },
  {
   "cell_type": "code",
   "execution_count": 189,
   "id": "294d1bad",
   "metadata": {},
   "outputs": [],
   "source": [
    "#lr.fit(X_train, y_train)"
   ]
  },
  {
   "cell_type": "code",
   "execution_count": 190,
   "id": "0a087e48",
   "metadata": {},
   "outputs": [],
   "source": [
    "#y_pred = lr.predict(X_train)"
   ]
  },
  {
   "cell_type": "code",
   "execution_count": 191,
   "id": "eb7c9457",
   "metadata": {},
   "outputs": [],
   "source": [
    "#sns.histplot(y_pred, label='Prediction', kde=True, color='blue', alpha=0.5)\n",
    "#sns.histplot(y_train, label='Actual', kde=True, color='orange', alpha=0.5)"
   ]
  },
  {
   "cell_type": "code",
   "execution_count": 192,
   "id": "d93aff61",
   "metadata": {},
   "outputs": [],
   "source": [
    "# sns.histplot(y_pred, label='prediction', color='blue')\n",
    "# sns.histplot(y_train, label='actual', color='orange')\n",
    "\n",
    "# plt.legend()"
   ]
  },
  {
   "cell_type": "code",
   "execution_count": 193,
   "id": "449035e1",
   "metadata": {},
   "outputs": [],
   "source": [
    "#mean_squared_error(y_train, y_pred, squared=False)"
   ]
  },
  {
   "cell_type": "code",
   "execution_count": 194,
   "id": "ad4d06f6",
   "metadata": {},
   "outputs": [],
   "source": [
    "#lr  = LinearRegression()\n",
    "#lr.fit(X_train, y_train)\n",
    "\n",
    "#y_pred = lr.predict(X_train)\n",
    "\n"
   ]
  },
  {
   "cell_type": "code",
   "execution_count": 195,
   "id": "5a491f8b",
   "metadata": {},
   "outputs": [],
   "source": [
    "def read_data_frames(url):\n",
    "    df = pd.read_parquet(url)\n",
    "    df['duration'] = df.lpep_dropoff_datetime - df.lpep_pickup_datetime\n",
    "    df.duration = df.duration.apply(lambda x: x.total_seconds() / 60)\n",
    "    df = df[((df.duration >= 1) & (df.duration <=60))]\n",
    "    categorical = ['PULocationID', 'DOLocationID']\n",
    "    numerical = ['trip_distance']\n",
    "    df[categorical] = df[categorical].astype(str)\n",
    "    return df"
   ]
  },
  {
   "cell_type": "code",
   "execution_count": 196,
   "id": "14c08929",
   "metadata": {},
   "outputs": [],
   "source": [
    "df_train = read_data_frames('https://d37ci6vzurychx.cloudfront.net/trip-data/green_tripdata_2021-01.parquet')\n",
    "df_val = read_data_frames('https://d37ci6vzurychx.cloudfront.net/trip-data/green_tripdata_2021-02.parquet') "
   ]
  },
  {
   "cell_type": "code",
   "execution_count": 197,
   "id": "30c6beaa",
   "metadata": {},
   "outputs": [
    {
     "data": {
      "text/plain": [
       "(73908, 61921)"
      ]
     },
     "execution_count": 197,
     "metadata": {},
     "output_type": "execute_result"
    }
   ],
   "source": [
    "len(df_train), len (df_val)"
   ]
  },
  {
   "cell_type": "code",
   "execution_count": 209,
   "id": "3c6ceb7f",
   "metadata": {},
   "outputs": [],
   "source": [
    "df_train['PU_DO'] = df_train['PULocationID'] + '_' + df_train['DOLocationID']\n",
    "df_val['PU_DO'] = df_val['PULocationID'] + '_' + df_val['DOLocationID']"
   ]
  },
  {
   "cell_type": "code",
   "execution_count": 210,
   "id": "e741486f",
   "metadata": {},
   "outputs": [
    {
     "data": {
      "text/html": [
       "<div>\n",
       "<style scoped>\n",
       "    .dataframe tbody tr th:only-of-type {\n",
       "        vertical-align: middle;\n",
       "    }\n",
       "\n",
       "    .dataframe tbody tr th {\n",
       "        vertical-align: top;\n",
       "    }\n",
       "\n",
       "    .dataframe thead th {\n",
       "        text-align: right;\n",
       "    }\n",
       "</style>\n",
       "<table border=\"1\" class=\"dataframe\">\n",
       "  <thead>\n",
       "    <tr style=\"text-align: right;\">\n",
       "      <th></th>\n",
       "      <th>VendorID</th>\n",
       "      <th>lpep_pickup_datetime</th>\n",
       "      <th>lpep_dropoff_datetime</th>\n",
       "      <th>store_and_fwd_flag</th>\n",
       "      <th>RatecodeID</th>\n",
       "      <th>PULocationID</th>\n",
       "      <th>DOLocationID</th>\n",
       "      <th>passenger_count</th>\n",
       "      <th>trip_distance</th>\n",
       "      <th>fare_amount</th>\n",
       "      <th>...</th>\n",
       "      <th>tip_amount</th>\n",
       "      <th>tolls_amount</th>\n",
       "      <th>ehail_fee</th>\n",
       "      <th>improvement_surcharge</th>\n",
       "      <th>total_amount</th>\n",
       "      <th>payment_type</th>\n",
       "      <th>trip_type</th>\n",
       "      <th>congestion_surcharge</th>\n",
       "      <th>duration</th>\n",
       "      <th>PU_DO</th>\n",
       "    </tr>\n",
       "  </thead>\n",
       "  <tbody>\n",
       "    <tr>\n",
       "      <th>0</th>\n",
       "      <td>2</td>\n",
       "      <td>2021-02-01 00:34:03</td>\n",
       "      <td>2021-02-01 00:51:58</td>\n",
       "      <td>N</td>\n",
       "      <td>1.0</td>\n",
       "      <td>130</td>\n",
       "      <td>205</td>\n",
       "      <td>5.0</td>\n",
       "      <td>3.66</td>\n",
       "      <td>14.00</td>\n",
       "      <td>...</td>\n",
       "      <td>10.00</td>\n",
       "      <td>0.0</td>\n",
       "      <td>None</td>\n",
       "      <td>0.3</td>\n",
       "      <td>25.30</td>\n",
       "      <td>1.0</td>\n",
       "      <td>1.0</td>\n",
       "      <td>0.00</td>\n",
       "      <td>17.916667</td>\n",
       "      <td>130_205</td>\n",
       "    </tr>\n",
       "    <tr>\n",
       "      <th>1</th>\n",
       "      <td>2</td>\n",
       "      <td>2021-02-01 00:04:00</td>\n",
       "      <td>2021-02-01 00:10:30</td>\n",
       "      <td>N</td>\n",
       "      <td>1.0</td>\n",
       "      <td>152</td>\n",
       "      <td>244</td>\n",
       "      <td>1.0</td>\n",
       "      <td>1.10</td>\n",
       "      <td>6.50</td>\n",
       "      <td>...</td>\n",
       "      <td>0.00</td>\n",
       "      <td>0.0</td>\n",
       "      <td>None</td>\n",
       "      <td>0.3</td>\n",
       "      <td>7.80</td>\n",
       "      <td>2.0</td>\n",
       "      <td>1.0</td>\n",
       "      <td>0.00</td>\n",
       "      <td>6.500000</td>\n",
       "      <td>152_244</td>\n",
       "    </tr>\n",
       "    <tr>\n",
       "      <th>2</th>\n",
       "      <td>2</td>\n",
       "      <td>2021-02-01 00:18:51</td>\n",
       "      <td>2021-02-01 00:34:06</td>\n",
       "      <td>N</td>\n",
       "      <td>1.0</td>\n",
       "      <td>152</td>\n",
       "      <td>48</td>\n",
       "      <td>1.0</td>\n",
       "      <td>4.93</td>\n",
       "      <td>16.50</td>\n",
       "      <td>...</td>\n",
       "      <td>0.00</td>\n",
       "      <td>0.0</td>\n",
       "      <td>None</td>\n",
       "      <td>0.3</td>\n",
       "      <td>20.55</td>\n",
       "      <td>2.0</td>\n",
       "      <td>1.0</td>\n",
       "      <td>2.75</td>\n",
       "      <td>15.250000</td>\n",
       "      <td>152_48</td>\n",
       "    </tr>\n",
       "    <tr>\n",
       "      <th>3</th>\n",
       "      <td>2</td>\n",
       "      <td>2021-02-01 00:53:27</td>\n",
       "      <td>2021-02-01 01:11:41</td>\n",
       "      <td>N</td>\n",
       "      <td>1.0</td>\n",
       "      <td>152</td>\n",
       "      <td>241</td>\n",
       "      <td>1.0</td>\n",
       "      <td>6.70</td>\n",
       "      <td>21.00</td>\n",
       "      <td>...</td>\n",
       "      <td>0.00</td>\n",
       "      <td>0.0</td>\n",
       "      <td>None</td>\n",
       "      <td>0.3</td>\n",
       "      <td>22.30</td>\n",
       "      <td>2.0</td>\n",
       "      <td>1.0</td>\n",
       "      <td>0.00</td>\n",
       "      <td>18.233333</td>\n",
       "      <td>152_241</td>\n",
       "    </tr>\n",
       "    <tr>\n",
       "      <th>4</th>\n",
       "      <td>2</td>\n",
       "      <td>2021-02-01 00:57:46</td>\n",
       "      <td>2021-02-01 01:06:44</td>\n",
       "      <td>N</td>\n",
       "      <td>1.0</td>\n",
       "      <td>75</td>\n",
       "      <td>42</td>\n",
       "      <td>1.0</td>\n",
       "      <td>1.89</td>\n",
       "      <td>8.50</td>\n",
       "      <td>...</td>\n",
       "      <td>2.45</td>\n",
       "      <td>0.0</td>\n",
       "      <td>None</td>\n",
       "      <td>0.3</td>\n",
       "      <td>12.25</td>\n",
       "      <td>1.0</td>\n",
       "      <td>1.0</td>\n",
       "      <td>0.00</td>\n",
       "      <td>8.966667</td>\n",
       "      <td>75_42</td>\n",
       "    </tr>\n",
       "    <tr>\n",
       "      <th>...</th>\n",
       "      <td>...</td>\n",
       "      <td>...</td>\n",
       "      <td>...</td>\n",
       "      <td>...</td>\n",
       "      <td>...</td>\n",
       "      <td>...</td>\n",
       "      <td>...</td>\n",
       "      <td>...</td>\n",
       "      <td>...</td>\n",
       "      <td>...</td>\n",
       "      <td>...</td>\n",
       "      <td>...</td>\n",
       "      <td>...</td>\n",
       "      <td>...</td>\n",
       "      <td>...</td>\n",
       "      <td>...</td>\n",
       "      <td>...</td>\n",
       "      <td>...</td>\n",
       "      <td>...</td>\n",
       "      <td>...</td>\n",
       "      <td>...</td>\n",
       "    </tr>\n",
       "    <tr>\n",
       "      <th>64567</th>\n",
       "      <td>2</td>\n",
       "      <td>2021-02-28 22:19:00</td>\n",
       "      <td>2021-02-28 22:29:00</td>\n",
       "      <td>None</td>\n",
       "      <td>NaN</td>\n",
       "      <td>129</td>\n",
       "      <td>7</td>\n",
       "      <td>NaN</td>\n",
       "      <td>2.63</td>\n",
       "      <td>10.04</td>\n",
       "      <td>...</td>\n",
       "      <td>0.00</td>\n",
       "      <td>0.0</td>\n",
       "      <td>None</td>\n",
       "      <td>0.3</td>\n",
       "      <td>10.34</td>\n",
       "      <td>NaN</td>\n",
       "      <td>NaN</td>\n",
       "      <td>NaN</td>\n",
       "      <td>10.000000</td>\n",
       "      <td>129_7</td>\n",
       "    </tr>\n",
       "    <tr>\n",
       "      <th>64568</th>\n",
       "      <td>2</td>\n",
       "      <td>2021-02-28 23:18:00</td>\n",
       "      <td>2021-02-28 23:27:00</td>\n",
       "      <td>None</td>\n",
       "      <td>NaN</td>\n",
       "      <td>116</td>\n",
       "      <td>166</td>\n",
       "      <td>NaN</td>\n",
       "      <td>1.87</td>\n",
       "      <td>8.33</td>\n",
       "      <td>...</td>\n",
       "      <td>1.89</td>\n",
       "      <td>0.0</td>\n",
       "      <td>None</td>\n",
       "      <td>0.3</td>\n",
       "      <td>10.52</td>\n",
       "      <td>NaN</td>\n",
       "      <td>NaN</td>\n",
       "      <td>NaN</td>\n",
       "      <td>9.000000</td>\n",
       "      <td>116_166</td>\n",
       "    </tr>\n",
       "    <tr>\n",
       "      <th>64569</th>\n",
       "      <td>2</td>\n",
       "      <td>2021-02-28 23:44:00</td>\n",
       "      <td>2021-02-28 23:58:00</td>\n",
       "      <td>None</td>\n",
       "      <td>NaN</td>\n",
       "      <td>74</td>\n",
       "      <td>151</td>\n",
       "      <td>NaN</td>\n",
       "      <td>2.40</td>\n",
       "      <td>12.61</td>\n",
       "      <td>...</td>\n",
       "      <td>0.00</td>\n",
       "      <td>0.0</td>\n",
       "      <td>None</td>\n",
       "      <td>0.3</td>\n",
       "      <td>12.91</td>\n",
       "      <td>NaN</td>\n",
       "      <td>NaN</td>\n",
       "      <td>NaN</td>\n",
       "      <td>14.000000</td>\n",
       "      <td>74_151</td>\n",
       "    </tr>\n",
       "    <tr>\n",
       "      <th>64570</th>\n",
       "      <td>2</td>\n",
       "      <td>2021-02-28 23:07:00</td>\n",
       "      <td>2021-02-28 23:14:00</td>\n",
       "      <td>None</td>\n",
       "      <td>NaN</td>\n",
       "      <td>42</td>\n",
       "      <td>42</td>\n",
       "      <td>NaN</td>\n",
       "      <td>1.11</td>\n",
       "      <td>11.95</td>\n",
       "      <td>...</td>\n",
       "      <td>0.00</td>\n",
       "      <td>0.0</td>\n",
       "      <td>None</td>\n",
       "      <td>0.3</td>\n",
       "      <td>15.00</td>\n",
       "      <td>NaN</td>\n",
       "      <td>NaN</td>\n",
       "      <td>NaN</td>\n",
       "      <td>7.000000</td>\n",
       "      <td>42_42</td>\n",
       "    </tr>\n",
       "    <tr>\n",
       "      <th>64571</th>\n",
       "      <td>2</td>\n",
       "      <td>2021-02-28 23:43:00</td>\n",
       "      <td>2021-02-28 23:50:00</td>\n",
       "      <td>None</td>\n",
       "      <td>NaN</td>\n",
       "      <td>42</td>\n",
       "      <td>41</td>\n",
       "      <td>NaN</td>\n",
       "      <td>1.40</td>\n",
       "      <td>8.21</td>\n",
       "      <td>...</td>\n",
       "      <td>0.00</td>\n",
       "      <td>0.0</td>\n",
       "      <td>None</td>\n",
       "      <td>0.3</td>\n",
       "      <td>8.51</td>\n",
       "      <td>NaN</td>\n",
       "      <td>NaN</td>\n",
       "      <td>NaN</td>\n",
       "      <td>7.000000</td>\n",
       "      <td>42_41</td>\n",
       "    </tr>\n",
       "  </tbody>\n",
       "</table>\n",
       "<p>61921 rows × 22 columns</p>\n",
       "</div>"
      ],
      "text/plain": [
       "       VendorID lpep_pickup_datetime lpep_dropoff_datetime store_and_fwd_flag  \\\n",
       "0             2  2021-02-01 00:34:03   2021-02-01 00:51:58                  N   \n",
       "1             2  2021-02-01 00:04:00   2021-02-01 00:10:30                  N   \n",
       "2             2  2021-02-01 00:18:51   2021-02-01 00:34:06                  N   \n",
       "3             2  2021-02-01 00:53:27   2021-02-01 01:11:41                  N   \n",
       "4             2  2021-02-01 00:57:46   2021-02-01 01:06:44                  N   \n",
       "...         ...                  ...                   ...                ...   \n",
       "64567         2  2021-02-28 22:19:00   2021-02-28 22:29:00               None   \n",
       "64568         2  2021-02-28 23:18:00   2021-02-28 23:27:00               None   \n",
       "64569         2  2021-02-28 23:44:00   2021-02-28 23:58:00               None   \n",
       "64570         2  2021-02-28 23:07:00   2021-02-28 23:14:00               None   \n",
       "64571         2  2021-02-28 23:43:00   2021-02-28 23:50:00               None   \n",
       "\n",
       "       RatecodeID PULocationID DOLocationID  passenger_count  trip_distance  \\\n",
       "0             1.0          130          205              5.0           3.66   \n",
       "1             1.0          152          244              1.0           1.10   \n",
       "2             1.0          152           48              1.0           4.93   \n",
       "3             1.0          152          241              1.0           6.70   \n",
       "4             1.0           75           42              1.0           1.89   \n",
       "...           ...          ...          ...              ...            ...   \n",
       "64567         NaN          129            7              NaN           2.63   \n",
       "64568         NaN          116          166              NaN           1.87   \n",
       "64569         NaN           74          151              NaN           2.40   \n",
       "64570         NaN           42           42              NaN           1.11   \n",
       "64571         NaN           42           41              NaN           1.40   \n",
       "\n",
       "       fare_amount  ...  tip_amount  tolls_amount  ehail_fee  \\\n",
       "0            14.00  ...       10.00           0.0       None   \n",
       "1             6.50  ...        0.00           0.0       None   \n",
       "2            16.50  ...        0.00           0.0       None   \n",
       "3            21.00  ...        0.00           0.0       None   \n",
       "4             8.50  ...        2.45           0.0       None   \n",
       "...            ...  ...         ...           ...        ...   \n",
       "64567        10.04  ...        0.00           0.0       None   \n",
       "64568         8.33  ...        1.89           0.0       None   \n",
       "64569        12.61  ...        0.00           0.0       None   \n",
       "64570        11.95  ...        0.00           0.0       None   \n",
       "64571         8.21  ...        0.00           0.0       None   \n",
       "\n",
       "       improvement_surcharge total_amount  payment_type  trip_type  \\\n",
       "0                        0.3        25.30           1.0        1.0   \n",
       "1                        0.3         7.80           2.0        1.0   \n",
       "2                        0.3        20.55           2.0        1.0   \n",
       "3                        0.3        22.30           2.0        1.0   \n",
       "4                        0.3        12.25           1.0        1.0   \n",
       "...                      ...          ...           ...        ...   \n",
       "64567                    0.3        10.34           NaN        NaN   \n",
       "64568                    0.3        10.52           NaN        NaN   \n",
       "64569                    0.3        12.91           NaN        NaN   \n",
       "64570                    0.3        15.00           NaN        NaN   \n",
       "64571                    0.3         8.51           NaN        NaN   \n",
       "\n",
       "       congestion_surcharge   duration    PU_DO  \n",
       "0                      0.00  17.916667  130_205  \n",
       "1                      0.00   6.500000  152_244  \n",
       "2                      2.75  15.250000   152_48  \n",
       "3                      0.00  18.233333  152_241  \n",
       "4                      0.00   8.966667    75_42  \n",
       "...                     ...        ...      ...  \n",
       "64567                   NaN  10.000000    129_7  \n",
       "64568                   NaN   9.000000  116_166  \n",
       "64569                   NaN  14.000000   74_151  \n",
       "64570                   NaN   7.000000    42_42  \n",
       "64571                   NaN   7.000000    42_41  \n",
       "\n",
       "[61921 rows x 22 columns]"
      ]
     },
     "execution_count": 210,
     "metadata": {},
     "output_type": "execute_result"
    }
   ],
   "source": [
    "df_val"
   ]
  },
  {
   "cell_type": "code",
   "execution_count": 211,
   "id": "4f0aad49",
   "metadata": {},
   "outputs": [
    {
     "data": {
      "text/plain": [
       "7.479562160810692"
      ]
     },
     "execution_count": 211,
     "metadata": {},
     "output_type": "execute_result"
    }
   ],
   "source": [
    "categorical = ['PU_DO']#'PULocationID', 'DOLocationID'\n",
    "numerical = ['trip_distance']\n",
    "\n",
    "dv = DictVectorizer()\n",
    "train_dict = df_train[categorical + numerical].to_dict(orient='records')\n",
    "X_train = dv.fit_transform(train_dict)\n",
    "\n",
    "val_dict = df_val[categorical + numerical].to_dict(orient='records')\n",
    "X_val = dv.transform(val_dict)\n",
    "\n",
    "target = 'duration'\n",
    "y_train = df_train[target].values\n",
    "y_val = df_val[target].values\n",
    "\n",
    "#y_train= df[target].values\n",
    "lr  = LinearRegression()\n",
    "lr.fit(X_train, y_train)\n",
    "\n",
    "\n",
    "y_pred = lr.predict(X_val)\n",
    "\n",
    "mean_squared_error(y_val, y_pred, squared=False)"
   ]
  },
  {
   "cell_type": "code",
   "execution_count": 215,
   "id": "09ca3085",
   "metadata": {},
   "outputs": [],
   "source": [
    "with open('models/lin_reg_duration.bin', 'wb') as f_out:\n",
    "    pickle.dump((dv, lr), f_out)"
   ]
  },
  {
   "cell_type": "code",
   "execution_count": 212,
   "id": "c0c03414",
   "metadata": {},
   "outputs": [
    {
     "data": {
      "text/plain": [
       "9.233436225720547"
      ]
     },
     "execution_count": 212,
     "metadata": {},
     "output_type": "execute_result"
    }
   ],
   "source": [
    "lr = Lasso(alpha=0.001)\n",
    "lr.fit(X_train, y_train)\n",
    "\n",
    "y_pred = lr.predict(X_val)\n",
    "\n",
    "mean_squared_error(y_val, y_pred, squared=False)"
   ]
  },
  {
   "cell_type": "code",
   "execution_count": 213,
   "id": "bb2375ac",
   "metadata": {},
   "outputs": [
    {
     "data": {
      "text/plain": [
       "11.342565604878798"
      ]
     },
     "execution_count": 213,
     "metadata": {},
     "output_type": "execute_result"
    }
   ],
   "source": [
    "lr = Ridge(alpha=0.001)\n",
    "lr.fit(X_train, y_train)\n",
    "\n",
    "y_pred = lr.predict(X_val)\n",
    "\n",
    "mean_squared_error(y_val, y_pred, squared=False)"
   ]
  },
  {
   "cell_type": "code",
   "execution_count": null,
   "id": "ba6a44fe",
   "metadata": {},
   "outputs": [],
   "source": []
  }
 ],
 "metadata": {
  "kernelspec": {
   "display_name": "Python 3 (ipykernel)",
   "language": "python",
   "name": "python3"
  },
  "language_info": {
   "codemirror_mode": {
    "name": "ipython",
    "version": 3
   },
   "file_extension": ".py",
   "mimetype": "text/x-python",
   "name": "python",
   "nbconvert_exporter": "python",
   "pygments_lexer": "ipython3",
   "version": "3.9.12"
  }
 },
 "nbformat": 4,
 "nbformat_minor": 5
}
