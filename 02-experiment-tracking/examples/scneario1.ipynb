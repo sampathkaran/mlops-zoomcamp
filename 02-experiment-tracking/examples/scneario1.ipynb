{
 "cells": [
  {
   "cell_type": "code",
   "execution_count": 2,
   "id": "12bc4ffe",
   "metadata": {},
   "outputs": [
    {
     "name": "stdout",
     "output_type": "stream",
     "text": [
      "Requirement already satisfied: mlflow in /home/codespace/anaconda3/envs/exp-tracking-env/lib/python3.9/site-packages (2.22.0)\n",
      "Requirement already satisfied: mlflow-skinny==2.22.0 in /home/codespace/anaconda3/envs/exp-tracking-env/lib/python3.9/site-packages (from mlflow) (2.22.0)\n",
      "Requirement already satisfied: Flask<4 in /home/codespace/anaconda3/envs/exp-tracking-env/lib/python3.9/site-packages (from mlflow) (3.1.1)\n",
      "Requirement already satisfied: Jinja2<4,>=2.11 in /home/codespace/anaconda3/envs/exp-tracking-env/lib/python3.9/site-packages (from mlflow) (3.1.6)\n",
      "Requirement already satisfied: alembic!=1.10.0,<2 in /home/codespace/anaconda3/envs/exp-tracking-env/lib/python3.9/site-packages (from mlflow) (1.15.2)\n",
      "Requirement already satisfied: docker<8,>=4.0.0 in /home/codespace/anaconda3/envs/exp-tracking-env/lib/python3.9/site-packages (from mlflow) (7.1.0)\n",
      "Requirement already satisfied: graphene<4 in /home/codespace/anaconda3/envs/exp-tracking-env/lib/python3.9/site-packages (from mlflow) (3.4.3)\n",
      "Requirement already satisfied: gunicorn<24 in /home/codespace/anaconda3/envs/exp-tracking-env/lib/python3.9/site-packages (from mlflow) (23.0.0)\n",
      "Requirement already satisfied: markdown<4,>=3.3 in /home/codespace/anaconda3/envs/exp-tracking-env/lib/python3.9/site-packages (from mlflow) (3.8)\n",
      "Requirement already satisfied: matplotlib<4 in /home/codespace/anaconda3/envs/exp-tracking-env/lib/python3.9/site-packages (from mlflow) (3.9.4)\n",
      "Requirement already satisfied: numpy<3 in /home/codespace/anaconda3/envs/exp-tracking-env/lib/python3.9/site-packages (from mlflow) (2.0.2)\n",
      "Requirement already satisfied: pandas<3 in /home/codespace/anaconda3/envs/exp-tracking-env/lib/python3.9/site-packages (from mlflow) (2.2.3)\n",
      "Requirement already satisfied: pyarrow<20,>=4.0.0 in /home/codespace/anaconda3/envs/exp-tracking-env/lib/python3.9/site-packages (from mlflow) (19.0.1)\n",
      "Requirement already satisfied: scikit-learn<2 in /home/codespace/anaconda3/envs/exp-tracking-env/lib/python3.9/site-packages (from mlflow) (1.6.1)\n",
      "Requirement already satisfied: scipy<2 in /home/codespace/anaconda3/envs/exp-tracking-env/lib/python3.9/site-packages (from mlflow) (1.13.1)\n",
      "Requirement already satisfied: sqlalchemy<3,>=1.4.0 in /home/codespace/anaconda3/envs/exp-tracking-env/lib/python3.9/site-packages (from mlflow) (2.0.41)\n",
      "Requirement already satisfied: cachetools<6,>=5.0.0 in /home/codespace/anaconda3/envs/exp-tracking-env/lib/python3.9/site-packages (from mlflow-skinny==2.22.0->mlflow) (5.5.2)\n",
      "Requirement already satisfied: click<9,>=7.0 in /home/codespace/anaconda3/envs/exp-tracking-env/lib/python3.9/site-packages (from mlflow-skinny==2.22.0->mlflow) (8.1.8)\n",
      "Requirement already satisfied: cloudpickle<4 in /home/codespace/anaconda3/envs/exp-tracking-env/lib/python3.9/site-packages (from mlflow-skinny==2.22.0->mlflow) (3.1.1)\n",
      "Requirement already satisfied: databricks-sdk<1,>=0.20.0 in /home/codespace/anaconda3/envs/exp-tracking-env/lib/python3.9/site-packages (from mlflow-skinny==2.22.0->mlflow) (0.53.0)\n",
      "Requirement already satisfied: fastapi<1 in /home/codespace/anaconda3/envs/exp-tracking-env/lib/python3.9/site-packages (from mlflow-skinny==2.22.0->mlflow) (0.115.12)\n",
      "Requirement already satisfied: gitpython<4,>=3.1.9 in /home/codespace/anaconda3/envs/exp-tracking-env/lib/python3.9/site-packages (from mlflow-skinny==2.22.0->mlflow) (3.1.44)\n",
      "Requirement already satisfied: importlib_metadata!=4.7.0,<9,>=3.7.0 in /home/codespace/anaconda3/envs/exp-tracking-env/lib/python3.9/site-packages (from mlflow-skinny==2.22.0->mlflow) (8.6.1)\n",
      "Requirement already satisfied: opentelemetry-api<3,>=1.9.0 in /home/codespace/anaconda3/envs/exp-tracking-env/lib/python3.9/site-packages (from mlflow-skinny==2.22.0->mlflow) (1.33.0)\n",
      "Requirement already satisfied: opentelemetry-sdk<3,>=1.9.0 in /home/codespace/anaconda3/envs/exp-tracking-env/lib/python3.9/site-packages (from mlflow-skinny==2.22.0->mlflow) (1.33.0)\n",
      "Requirement already satisfied: packaging<25 in /home/codespace/anaconda3/envs/exp-tracking-env/lib/python3.9/site-packages (from mlflow-skinny==2.22.0->mlflow) (24.2)\n",
      "Requirement already satisfied: protobuf<7,>=3.12.0 in /home/codespace/anaconda3/envs/exp-tracking-env/lib/python3.9/site-packages (from mlflow-skinny==2.22.0->mlflow) (6.31.0)\n",
      "Requirement already satisfied: pydantic<3,>=1.10.8 in /home/codespace/anaconda3/envs/exp-tracking-env/lib/python3.9/site-packages (from mlflow-skinny==2.22.0->mlflow) (2.11.4)\n",
      "Requirement already satisfied: pyyaml<7,>=5.1 in /home/codespace/anaconda3/envs/exp-tracking-env/lib/python3.9/site-packages (from mlflow-skinny==2.22.0->mlflow) (6.0.2)\n",
      "Requirement already satisfied: requests<3,>=2.17.3 in /home/codespace/anaconda3/envs/exp-tracking-env/lib/python3.9/site-packages (from mlflow-skinny==2.22.0->mlflow) (2.32.3)\n",
      "Requirement already satisfied: sqlparse<1,>=0.4.0 in /home/codespace/anaconda3/envs/exp-tracking-env/lib/python3.9/site-packages (from mlflow-skinny==2.22.0->mlflow) (0.5.3)\n",
      "Requirement already satisfied: typing-extensions<5,>=4.0.0 in /home/codespace/anaconda3/envs/exp-tracking-env/lib/python3.9/site-packages (from mlflow-skinny==2.22.0->mlflow) (4.13.2)\n",
      "Requirement already satisfied: uvicorn<1 in /home/codespace/anaconda3/envs/exp-tracking-env/lib/python3.9/site-packages (from mlflow-skinny==2.22.0->mlflow) (0.34.2)\n",
      "Requirement already satisfied: Mako in /home/codespace/anaconda3/envs/exp-tracking-env/lib/python3.9/site-packages (from alembic!=1.10.0,<2->mlflow) (1.3.10)\n",
      "Requirement already satisfied: google-auth~=2.0 in /home/codespace/anaconda3/envs/exp-tracking-env/lib/python3.9/site-packages (from databricks-sdk<1,>=0.20.0->mlflow-skinny==2.22.0->mlflow) (2.40.1)\n",
      "Requirement already satisfied: urllib3>=1.26.0 in /home/codespace/anaconda3/envs/exp-tracking-env/lib/python3.9/site-packages (from docker<8,>=4.0.0->mlflow) (1.26.20)\n",
      "Requirement already satisfied: starlette<0.47.0,>=0.40.0 in /home/codespace/anaconda3/envs/exp-tracking-env/lib/python3.9/site-packages (from fastapi<1->mlflow-skinny==2.22.0->mlflow) (0.46.2)\n",
      "Requirement already satisfied: blinker>=1.9.0 in /home/codespace/anaconda3/envs/exp-tracking-env/lib/python3.9/site-packages (from Flask<4->mlflow) (1.9.0)\n",
      "Requirement already satisfied: itsdangerous>=2.2.0 in /home/codespace/anaconda3/envs/exp-tracking-env/lib/python3.9/site-packages (from Flask<4->mlflow) (2.2.0)\n",
      "Requirement already satisfied: markupsafe>=2.1.1 in /home/codespace/anaconda3/envs/exp-tracking-env/lib/python3.9/site-packages (from Flask<4->mlflow) (3.0.2)\n",
      "Requirement already satisfied: werkzeug>=3.1.0 in /home/codespace/anaconda3/envs/exp-tracking-env/lib/python3.9/site-packages (from Flask<4->mlflow) (3.1.3)\n",
      "Requirement already satisfied: gitdb<5,>=4.0.1 in /home/codespace/anaconda3/envs/exp-tracking-env/lib/python3.9/site-packages (from gitpython<4,>=3.1.9->mlflow-skinny==2.22.0->mlflow) (4.0.12)\n",
      "Requirement already satisfied: smmap<6,>=3.0.1 in /home/codespace/anaconda3/envs/exp-tracking-env/lib/python3.9/site-packages (from gitdb<5,>=4.0.1->gitpython<4,>=3.1.9->mlflow-skinny==2.22.0->mlflow) (5.0.2)\n",
      "Requirement already satisfied: pyasn1-modules>=0.2.1 in /home/codespace/anaconda3/envs/exp-tracking-env/lib/python3.9/site-packages (from google-auth~=2.0->databricks-sdk<1,>=0.20.0->mlflow-skinny==2.22.0->mlflow) (0.4.2)\n",
      "Requirement already satisfied: rsa<5,>=3.1.4 in /home/codespace/anaconda3/envs/exp-tracking-env/lib/python3.9/site-packages (from google-auth~=2.0->databricks-sdk<1,>=0.20.0->mlflow-skinny==2.22.0->mlflow) (4.9.1)\n",
      "Requirement already satisfied: graphql-core<3.3,>=3.1 in /home/codespace/anaconda3/envs/exp-tracking-env/lib/python3.9/site-packages (from graphene<4->mlflow) (3.2.6)\n",
      "Requirement already satisfied: graphql-relay<3.3,>=3.1 in /home/codespace/anaconda3/envs/exp-tracking-env/lib/python3.9/site-packages (from graphene<4->mlflow) (3.2.0)\n",
      "Requirement already satisfied: python-dateutil<3,>=2.7.0 in /home/codespace/anaconda3/envs/exp-tracking-env/lib/python3.9/site-packages (from graphene<4->mlflow) (2.9.0.post0)\n",
      "Requirement already satisfied: zipp>=3.20 in /home/codespace/anaconda3/envs/exp-tracking-env/lib/python3.9/site-packages (from importlib_metadata!=4.7.0,<9,>=3.7.0->mlflow-skinny==2.22.0->mlflow) (3.21.0)\n",
      "Requirement already satisfied: contourpy>=1.0.1 in /home/codespace/anaconda3/envs/exp-tracking-env/lib/python3.9/site-packages (from matplotlib<4->mlflow) (1.3.0)\n",
      "Requirement already satisfied: cycler>=0.10 in /home/codespace/anaconda3/envs/exp-tracking-env/lib/python3.9/site-packages (from matplotlib<4->mlflow) (0.12.1)\n",
      "Requirement already satisfied: fonttools>=4.22.0 in /home/codespace/anaconda3/envs/exp-tracking-env/lib/python3.9/site-packages (from matplotlib<4->mlflow) (4.58.0)\n",
      "Requirement already satisfied: kiwisolver>=1.3.1 in /home/codespace/anaconda3/envs/exp-tracking-env/lib/python3.9/site-packages (from matplotlib<4->mlflow) (1.4.7)\n",
      "Requirement already satisfied: pillow>=8 in /home/codespace/anaconda3/envs/exp-tracking-env/lib/python3.9/site-packages (from matplotlib<4->mlflow) (11.2.1)\n",
      "Requirement already satisfied: pyparsing>=2.3.1 in /home/codespace/anaconda3/envs/exp-tracking-env/lib/python3.9/site-packages (from matplotlib<4->mlflow) (3.2.3)\n",
      "Requirement already satisfied: importlib-resources>=3.2.0 in /home/codespace/anaconda3/envs/exp-tracking-env/lib/python3.9/site-packages (from matplotlib<4->mlflow) (6.5.2)\n",
      "Requirement already satisfied: deprecated>=1.2.6 in /home/codespace/anaconda3/envs/exp-tracking-env/lib/python3.9/site-packages (from opentelemetry-api<3,>=1.9.0->mlflow-skinny==2.22.0->mlflow) (1.2.18)\n",
      "Requirement already satisfied: opentelemetry-semantic-conventions==0.54b0 in /home/codespace/anaconda3/envs/exp-tracking-env/lib/python3.9/site-packages (from opentelemetry-sdk<3,>=1.9.0->mlflow-skinny==2.22.0->mlflow) (0.54b0)\n",
      "Requirement already satisfied: pytz>=2020.1 in /home/codespace/anaconda3/envs/exp-tracking-env/lib/python3.9/site-packages (from pandas<3->mlflow) (2025.2)\n",
      "Requirement already satisfied: tzdata>=2022.7 in /home/codespace/anaconda3/envs/exp-tracking-env/lib/python3.9/site-packages (from pandas<3->mlflow) (2025.2)\n",
      "Requirement already satisfied: annotated-types>=0.6.0 in /home/codespace/anaconda3/envs/exp-tracking-env/lib/python3.9/site-packages (from pydantic<3,>=1.10.8->mlflow-skinny==2.22.0->mlflow) (0.7.0)\n",
      "Requirement already satisfied: pydantic-core==2.33.2 in /home/codespace/anaconda3/envs/exp-tracking-env/lib/python3.9/site-packages (from pydantic<3,>=1.10.8->mlflow-skinny==2.22.0->mlflow) (2.33.2)\n",
      "Requirement already satisfied: typing-inspection>=0.4.0 in /home/codespace/anaconda3/envs/exp-tracking-env/lib/python3.9/site-packages (from pydantic<3,>=1.10.8->mlflow-skinny==2.22.0->mlflow) (0.4.0)\n",
      "Requirement already satisfied: six>=1.5 in /home/codespace/anaconda3/envs/exp-tracking-env/lib/python3.9/site-packages (from python-dateutil<3,>=2.7.0->graphene<4->mlflow) (1.17.0)\n",
      "Requirement already satisfied: charset-normalizer<4,>=2 in /home/codespace/anaconda3/envs/exp-tracking-env/lib/python3.9/site-packages (from requests<3,>=2.17.3->mlflow-skinny==2.22.0->mlflow) (3.4.2)\n",
      "Requirement already satisfied: idna<4,>=2.5 in /home/codespace/anaconda3/envs/exp-tracking-env/lib/python3.9/site-packages (from requests<3,>=2.17.3->mlflow-skinny==2.22.0->mlflow) (3.10)\n",
      "Requirement already satisfied: certifi>=2017.4.17 in /home/codespace/anaconda3/envs/exp-tracking-env/lib/python3.9/site-packages (from requests<3,>=2.17.3->mlflow-skinny==2.22.0->mlflow) (2025.4.26)\n",
      "Requirement already satisfied: pyasn1>=0.1.3 in /home/codespace/anaconda3/envs/exp-tracking-env/lib/python3.9/site-packages (from rsa<5,>=3.1.4->google-auth~=2.0->databricks-sdk<1,>=0.20.0->mlflow-skinny==2.22.0->mlflow) (0.6.1)\n",
      "Requirement already satisfied: joblib>=1.2.0 in /home/codespace/anaconda3/envs/exp-tracking-env/lib/python3.9/site-packages (from scikit-learn<2->mlflow) (1.5.0)\n",
      "Requirement already satisfied: threadpoolctl>=3.1.0 in /home/codespace/anaconda3/envs/exp-tracking-env/lib/python3.9/site-packages (from scikit-learn<2->mlflow) (3.6.0)\n",
      "Requirement already satisfied: greenlet>=1 in /home/codespace/anaconda3/envs/exp-tracking-env/lib/python3.9/site-packages (from sqlalchemy<3,>=1.4.0->mlflow) (3.2.2)\n",
      "Requirement already satisfied: anyio<5,>=3.6.2 in /home/codespace/anaconda3/envs/exp-tracking-env/lib/python3.9/site-packages (from starlette<0.47.0,>=0.40.0->fastapi<1->mlflow-skinny==2.22.0->mlflow) (4.9.0)\n",
      "Requirement already satisfied: exceptiongroup>=1.0.2 in /home/codespace/anaconda3/envs/exp-tracking-env/lib/python3.9/site-packages (from anyio<5,>=3.6.2->starlette<0.47.0,>=0.40.0->fastapi<1->mlflow-skinny==2.22.0->mlflow) (1.3.0)\n",
      "Requirement already satisfied: sniffio>=1.1 in /home/codespace/anaconda3/envs/exp-tracking-env/lib/python3.9/site-packages (from anyio<5,>=3.6.2->starlette<0.47.0,>=0.40.0->fastapi<1->mlflow-skinny==2.22.0->mlflow) (1.3.1)\n",
      "Requirement already satisfied: h11>=0.8 in /home/codespace/anaconda3/envs/exp-tracking-env/lib/python3.9/site-packages (from uvicorn<1->mlflow-skinny==2.22.0->mlflow) (0.16.0)\n",
      "Requirement already satisfied: wrapt<2,>=1.10 in /home/codespace/anaconda3/envs/exp-tracking-env/lib/python3.9/site-packages (from deprecated>=1.2.6->opentelemetry-api<3,>=1.9.0->mlflow-skinny==2.22.0->mlflow) (1.17.2)\n"
     ]
    }
   ],
   "source": [
    "!pip install mlflow"
   ]
  },
  {
   "cell_type": "code",
   "execution_count": 1,
   "id": "1ffc3c8f",
   "metadata": {},
   "outputs": [],
   "source": [
    "import mlflow\n"
   ]
  },
  {
   "cell_type": "code",
   "execution_count": 3,
   "id": "542e08af",
   "metadata": {},
   "outputs": [
    {
     "name": "stdout",
     "output_type": "stream",
     "text": [
      "tracking URI: 'file:///workspaces/mlops-zoomcamp/02-experiment-tracking/examples/mlruns'\n"
     ]
    }
   ],
   "source": [
    "print(f\"tracking URI: '{mlflow.get_tracking_uri()}'\")"
   ]
  },
  {
   "cell_type": "code",
   "execution_count": 19,
   "id": "7d765e07",
   "metadata": {},
   "outputs": [
    {
     "data": {
      "text/plain": [
       "[<Experiment: artifact_location='file:///workspaces/mlops-zoomcamp/02-experiment-tracking/examples/mlruns/0', creation_time=1747879300542, experiment_id='0', last_update_time=1747879300542, lifecycle_stage='active', name='Default', tags={}>]"
      ]
     },
     "execution_count": 19,
     "metadata": {},
     "output_type": "execute_result"
    }
   ],
   "source": [
    "\n",
    "mlflow.search_experiments()"
   ]
  },
  {
   "cell_type": "code",
   "execution_count": 5,
   "id": "9a50dd66",
   "metadata": {},
   "outputs": [
    {
     "name": "stderr",
     "output_type": "stream",
     "text": [
      "\u001b[31m2025/05/22 06:51:42 WARNING mlflow.models.model: Model logged without a signature and input example. Please set `input_example` parameter when logging the model to auto infer the model signature.\u001b[0m\n"
     ]
    },
    {
     "name": "stdout",
     "output_type": "stream",
     "text": [
      "default artifacts URI: 'file:///workspaces/mlops-zoomcamp/02-experiment-tracking/examples/mlruns/655061322442458543/5ee108deeded450fb5435dc43541e325/artifacts'\n"
     ]
    }
   ],
   "source": [
    "from sklearn.linear_model import LogisticRegression\n",
    "from sklearn.datasets import load_iris\n",
    "from sklearn.metrics import accuracy_score\n",
    "\n",
    "mlflow.set_experiment(\"my-experiment-1\")\n",
    "\n",
    "with mlflow.start_run():\n",
    "\n",
    "    X, y = load_iris(return_X_y=True)\n",
    "\n",
    "    params = {\"C\": 0.1, \"random_state\": 42}\n",
    "    mlflow.log_params(params)\n",
    "\n",
    "    lr = LogisticRegression(**params).fit(X, y)\n",
    "    y_pred = lr.predict(X)\n",
    "    mlflow.log_metric(\"accuracy\", accuracy_score(y, y_pred))\n",
    "\n",
    "    mlflow.sklearn.log_model(lr, artifact_path=\"models\")\n",
    "    print(f\"default artifacts URI: '{mlflow.get_artifact_uri()}'\")"
   ]
  },
  {
   "cell_type": "code",
   "execution_count": 6,
   "id": "3a2cb90d",
   "metadata": {},
   "outputs": [
    {
     "data": {
      "text/plain": [
       "[<Experiment: artifact_location='file:///workspaces/mlops-zoomcamp/02-experiment-tracking/examples/mlruns/655061322442458543', creation_time=1747896501736, experiment_id='655061322442458543', last_update_time=1747896501736, lifecycle_stage='active', name='my-experiment-1', tags={}>,\n",
       " <Experiment: artifact_location='file:///workspaces/mlops-zoomcamp/02-experiment-tracking/examples/mlruns/0', creation_time=1747879300542, experiment_id='0', last_update_time=1747879300542, lifecycle_stage='active', name='Default', tags={}>]"
      ]
     },
     "execution_count": 6,
     "metadata": {},
     "output_type": "execute_result"
    }
   ],
   "source": [
    "mlflow.search_experiments()"
   ]
  },
  {
   "cell_type": "code",
   "execution_count": null,
   "id": "4357d71b",
   "metadata": {},
   "outputs": [],
   "source": []
  }
 ],
 "metadata": {
  "kernelspec": {
   "display_name": "exp-tracking-env",
   "language": "python",
   "name": "python3"
  },
  "language_info": {
   "codemirror_mode": {
    "name": "ipython",
    "version": 3
   },
   "file_extension": ".py",
   "mimetype": "text/x-python",
   "name": "python",
   "nbconvert_exporter": "python",
   "pygments_lexer": "ipython3",
   "version": "3.9.21"
  }
 },
 "nbformat": 4,
 "nbformat_minor": 5
}
