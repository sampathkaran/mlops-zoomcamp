{
 "cells": [
  {
   "cell_type": "code",
   "execution_count": 1,
   "id": "7bd3fade",
   "metadata": {},
   "outputs": [
    {
     "name": "stdout",
     "output_type": "stream",
     "text": [
      "mlflow, version 2.22.0\n"
     ]
    }
   ],
   "source": [
    "!mlflow --version"
   ]
  },
  {
   "cell_type": "code",
   "execution_count": 4,
   "id": "13db4446",
   "metadata": {},
   "outputs": [
    {
     "name": "stdout",
     "output_type": "stream",
     "text": [
      "--2025-05-26 05:44:20--  https://d37ci6vzurychx.cloudfront.net/trip-data/green_tripdata_2023-01.parquet\n",
      "Resolving d37ci6vzurychx.cloudfront.net (d37ci6vzurychx.cloudfront.net)... 3.164.82.197, 3.164.82.112, 3.164.82.40, ...\n",
      "Connecting to d37ci6vzurychx.cloudfront.net (d37ci6vzurychx.cloudfront.net)|3.164.82.197|:443... connected.\n",
      "HTTP request sent, awaiting response... 200 OK\n",
      "Length: 1427002 (1.4M) [binary/octet-stream]\n",
      "Saving to: ‘green_tripdata_2023-01.parquet.1’\n",
      "\n",
      "green_tripdata_2023 100%[===================>]   1.36M  2.20MB/s    in 0.6s    \n",
      "\n",
      "2025-05-26 05:44:21 (2.20 MB/s) - ‘green_tripdata_2023-01.parquet.1’ saved [1427002/1427002]\n",
      "\n",
      "--2025-05-26 05:44:21--  https://d37ci6vzurychx.cloudfront.net/trip-data/green_tripdata_2023-02.parquet\n",
      "Resolving d37ci6vzurychx.cloudfront.net (d37ci6vzurychx.cloudfront.net)... 3.164.82.197, 3.164.82.40, 3.164.82.160, ...\n",
      "Connecting to d37ci6vzurychx.cloudfront.net (d37ci6vzurychx.cloudfront.net)|3.164.82.197|:443... connected.\n",
      "HTTP request sent, awaiting response... 200 OK\n",
      "Length: 1533740 (1.5M) [binary/octet-stream]\n",
      "Saving to: ‘green_tripdata_2023-02.parquet’\n",
      "\n",
      "green_tripdata_2023 100%[===================>]   1.46M  2.44MB/s    in 0.6s    \n",
      "\n",
      "2025-05-26 05:44:22 (2.44 MB/s) - ‘green_tripdata_2023-02.parquet’ saved [1533740/1533740]\n",
      "\n",
      "--2025-05-26 05:44:23--  https://d37ci6vzurychx.cloudfront.net/trip-data/green_tripdata_2023-03.parquet\n",
      "Resolving d37ci6vzurychx.cloudfront.net (d37ci6vzurychx.cloudfront.net)... 3.164.82.160, 3.164.82.197, 3.164.82.112, ...\n",
      "Connecting to d37ci6vzurychx.cloudfront.net (d37ci6vzurychx.cloudfront.net)|3.164.82.160|:443... connected.\n",
      "HTTP request sent, awaiting response... 200 OK\n",
      "Length: 1730999 (1.7M) [binary/octet-stream]\n",
      "Saving to: ‘green_tripdata_2023-03.parquet’\n",
      "\n",
      "green_tripdata_2023 100%[===================>]   1.65M  2.51MB/s    in 0.7s    \n",
      "\n",
      "2025-05-26 05:44:24 (2.51 MB/s) - ‘green_tripdata_2023-03.parquet’ saved [1730999/1730999]\n",
      "\n"
     ]
    }
   ],
   "source": [
    "!wget https://d37ci6vzurychx.cloudfront.net/trip-data/green_tripdata_2023-01.parquet\n",
    "!wget https://d37ci6vzurychx.cloudfront.net/trip-data/green_tripdata_2023-02.parquet\n",
    "!wget https://d37ci6vzurychx.cloudfront.net/trip-data/green_tripdata_2023-03.parquet"
   ]
  },
  {
   "cell_type": "code",
   "execution_count": 1,
   "id": "0a0834d8",
   "metadata": {},
   "outputs": [],
   "source": [
    "!python preprocess_data.py --raw_data_path /workspaces/mlops-zoomcamp/02-experiment-tracking/homework-2/TAXI_DATA_FOLDER --dest_path ./output"
   ]
  },
  {
   "cell_type": "code",
   "execution_count": 2,
   "id": "b9866cbe",
   "metadata": {},
   "outputs": [
    {
     "name": "stdout",
     "output_type": "stream",
     "text": [
      "total 7016\n",
      "-rw-rw-rw- 1 codespace codespace  131004 May 26 06:45 dv.pkl\n",
      "-rw-rw-rw- 1 codespace codespace 2458698 May 26 06:45 test.pkl\n",
      "-rw-rw-rw- 1 codespace codespace 2374518 May 26 06:45 train.pkl\n",
      "-rw-rw-rw- 1 codespace codespace 2215824 May 26 06:45 val.pkl\n"
     ]
    }
   ],
   "source": [
    "! ls -l output"
   ]
  },
  {
   "cell_type": "code",
   "execution_count": 3,
   "id": "06dcfeef",
   "metadata": {},
   "outputs": [],
   "source": [
    "import mlflow"
   ]
  },
  {
   "cell_type": "code",
   "execution_count": 4,
   "id": "cce7f17b",
   "metadata": {},
   "outputs": [],
   "source": [
    "mlflow.set_experiment(\"mlflow-homework\")\n",
    "mlflow.set_tracking_uri(\"http://127.0.0.1:5000/\")"
   ]
  },
  {
   "cell_type": "code",
   "execution_count": 8,
   "id": "403c680a",
   "metadata": {},
   "outputs": [
    {
     "name": "stdout",
     "output_type": "stream",
     "text": [
      "2025/05/26 09:53:38 INFO mlflow.tracking.fluent: Autologging successfully enabled for sklearn.\n",
      "2025/05/26 09:53:38 INFO mlflow.tracking.fluent: Experiment with name 'mlflow-homework' does not exist. Creating a new experiment.\n",
      "🏃 View run skittish-finch-427 at: http://127.0.0.1:5000/#/experiments/1/runs/f9cfcedae7df424fb6daf45ea5f702d4\n",
      "🧪 View experiment at: http://127.0.0.1:5000/#/experiments/1\n"
     ]
    }
   ],
   "source": [
    "!python train.py"
   ]
  },
  {
   "cell_type": "code",
   "execution_count": 10,
   "id": "c794f87d",
   "metadata": {},
   "outputs": [],
   "source": [
    "# min_samples_split 2\n",
    "# default-artifact-root"
   ]
  },
  {
   "cell_type": "code",
   "execution_count": 6,
   "id": "5e4ba847",
   "metadata": {},
   "outputs": [
    {
     "name": "stdout",
     "output_type": "stream",
     "text": [
      "🏃 View run enchanting-doe-449 at: http://127.0.0.1:5000/#/experiments/1/runs/26f9b1fe6c8e40e1b976b04605d1de6d\n",
      "\n",
      "🧪 View experiment at: http://127.0.0.1:5000/#/experiments/1                    \n",
      "\n",
      "🏃 View run peaceful-shrike-866 at: http://127.0.0.1:5000/#/experiments/1/runs/854da85ea5a146009f933f7c244bdc54\n",
      "\n",
      "🧪 View experiment at: http://127.0.0.1:5000/#/experiments/1                    \n",
      "\n",
      "🏃 View run ambitious-horse-226 at: http://127.0.0.1:5000/#/experiments/1/runs/e22fea7512d64689a80cc1833269ba68\n",
      "\n",
      "🧪 View experiment at: http://127.0.0.1:5000/#/experiments/1                    \n",
      "\n",
      "🏃 View run resilient-shrike-230 at: http://127.0.0.1:5000/#/experiments/1/runs/35765487570e4972afd179ef63c08d57\n",
      "\n",
      "🧪 View experiment at: http://127.0.0.1:5000/#/experiments/1                    \n",
      "\n",
      "🏃 View run zealous-hare-493 at: http://127.0.0.1:5000/#/experiments/1/runs/eb290449c1a64d1b864771b921ef469d\n",
      "\n",
      "🧪 View experiment at: http://127.0.0.1:5000/#/experiments/1                    \n",
      "\n",
      "🏃 View run gifted-bear-180 at: http://127.0.0.1:5000/#/experiments/1/runs/b89d75490b5946bcbc9a69d1f46d13a2\n",
      "\n",
      "🧪 View experiment at: http://127.0.0.1:5000/#/experiments/1                    \n",
      "\n",
      "🏃 View run aged-fowl-138 at: http://127.0.0.1:5000/#/experiments/1/runs/abc655c5421143da9db4c3c2b7bac20e\n",
      "\n",
      "🧪 View experiment at: http://127.0.0.1:5000/#/experiments/1                    \n",
      "\n",
      "🏃 View run mercurial-goat-670 at: http://127.0.0.1:5000/#/experiments/1/runs/a2305c5d2cb24da090b540eeb976e13e\n",
      "\n",
      "🧪 View experiment at: http://127.0.0.1:5000/#/experiments/1                    \n",
      "\n",
      "🏃 View run funny-asp-853 at: http://127.0.0.1:5000/#/experiments/1/runs/0f2e4d7d91c5441eb833a75bce8b1311\n",
      "\n",
      "🧪 View experiment at: http://127.0.0.1:5000/#/experiments/1                    \n",
      "\n",
      "🏃 View run abundant-wasp-963 at: http://127.0.0.1:5000/#/experiments/1/runs/e6e6d8e23d064cf0a62d3f12fe131d53\n",
      "\n",
      "🧪 View experiment at: http://127.0.0.1:5000/#/experiments/1                    \n",
      "\n",
      "🏃 View run dashing-jay-622 at: http://127.0.0.1:5000/#/experiments/1/runs/25413d1c0c454a0e8b7b004e387fb11b\n",
      "\n",
      "🧪 View experiment at: http://127.0.0.1:5000/#/experiments/1                    \n",
      "\n",
      "🏃 View run suave-shoat-210 at: http://127.0.0.1:5000/#/experiments/1/runs/688b781c5cd54e169ecc351dc4657865\n",
      "\n",
      "🧪 View experiment at: http://127.0.0.1:5000/#/experiments/1                    \n",
      "\n",
      "🏃 View run peaceful-mare-315 at: http://127.0.0.1:5000/#/experiments/1/runs/1e28f4e3071f47dfb53953abd4327fbc\n",
      "\n",
      "🧪 View experiment at: http://127.0.0.1:5000/#/experiments/1                    \n",
      "\n",
      "🏃 View run kindly-crow-947 at: http://127.0.0.1:5000/#/experiments/1/runs/6443ce0f23f74766acc53944e196dabd\n",
      "\n",
      "🧪 View experiment at: http://127.0.0.1:5000/#/experiments/1                    \n",
      "\n",
      "🏃 View run dashing-sheep-548 at: http://127.0.0.1:5000/#/experiments/1/runs/403afb8d16b54ae299febcf7205898be\n",
      "\n",
      "🧪 View experiment at: http://127.0.0.1:5000/#/experiments/1                    \n",
      "\n",
      "100%|██████████| 15/15 [01:02<00:00,  4.19s/trial, best loss: 5.335419588556921]\n"
     ]
    }
   ],
   "source": [
    "!python hpo.py"
   ]
  },
  {
   "cell_type": "code",
   "execution_count": 12,
   "id": "22890d73",
   "metadata": {},
   "outputs": [],
   "source": [
    "#RMSE : 5.335"
   ]
  },
  {
   "cell_type": "code",
   "execution_count": 10,
   "id": "3ccde3da",
   "metadata": {},
   "outputs": [
    {
     "name": "stdout",
     "output_type": "stream",
     "text": [
      "🏃 View run enchanting-robin-793 at: http://127.0.0.1:5000/#/experiments/2/runs/85cc842ba2a244198cff300fa1127a75\n",
      "🧪 View experiment at: http://127.0.0.1:5000/#/experiments/2\n",
      "🏃 View run unruly-mare-722 at: http://127.0.0.1:5000/#/experiments/2/runs/35e985d230e14532a4e84577d458c98c\n",
      "🧪 View experiment at: http://127.0.0.1:5000/#/experiments/2\n",
      "🏃 View run masked-hog-313 at: http://127.0.0.1:5000/#/experiments/2/runs/aac24c5ae5554bd48444ded6f84daa27\n",
      "🧪 View experiment at: http://127.0.0.1:5000/#/experiments/2\n",
      "🏃 View run omniscient-skunk-748 at: http://127.0.0.1:5000/#/experiments/2/runs/71446a3df2db4b1dae090db24d26f7ba\n",
      "🧪 View experiment at: http://127.0.0.1:5000/#/experiments/2\n",
      "🏃 View run peaceful-crab-896 at: http://127.0.0.1:5000/#/experiments/2/runs/6901659942e34557bf885798b20604c5\n",
      "🧪 View experiment at: http://127.0.0.1:5000/#/experiments/2\n",
      "Successfully registered model 'top_rmse_model'.\n",
      "2025/05/27 03:56:36 INFO mlflow.store.model_registry.abstract_store: Waiting up to 300 seconds for model version to finish creation. Model name: top_rmse_model, version 1\n",
      "Created version '1' of model 'top_rmse_model'.\n"
     ]
    }
   ],
   "source": [
    "!python register_model.py"
   ]
  },
  {
   "cell_type": "markdown",
   "id": "cb366170",
   "metadata": {},
   "source": []
  },
  {
   "cell_type": "code",
   "execution_count": null,
   "id": "3ca80257",
   "metadata": {},
   "outputs": [],
   "source": []
  }
 ],
 "metadata": {
  "kernelspec": {
   "display_name": "mlflow-work",
   "language": "python",
   "name": "python3"
  },
  "language_info": {
   "codemirror_mode": {
    "name": "ipython",
    "version": 3
   },
   "file_extension": ".py",
   "mimetype": "text/x-python",
   "name": "python",
   "nbconvert_exporter": "python",
   "pygments_lexer": "ipython3",
   "version": "3.9.21"
  }
 },
 "nbformat": 4,
 "nbformat_minor": 5
}
