{
 "cells": [
  {
   "cell_type": "code",
   "execution_count": 1,
   "id": "7bd3fade",
   "metadata": {},
   "outputs": [
    {
     "name": "stdout",
     "output_type": "stream",
     "text": [
      "mlflow, version 2.22.0\n"
     ]
    }
   ],
   "source": [
    "!mlflow --version"
   ]
  },
  {
   "cell_type": "code",
   "execution_count": 4,
   "id": "13db4446",
   "metadata": {},
   "outputs": [
    {
     "name": "stdout",
     "output_type": "stream",
     "text": [
      "--2025-05-26 05:44:20--  https://d37ci6vzurychx.cloudfront.net/trip-data/green_tripdata_2023-01.parquet\n",
      "Resolving d37ci6vzurychx.cloudfront.net (d37ci6vzurychx.cloudfront.net)... 3.164.82.197, 3.164.82.112, 3.164.82.40, ...\n",
      "Connecting to d37ci6vzurychx.cloudfront.net (d37ci6vzurychx.cloudfront.net)|3.164.82.197|:443... connected.\n",
      "HTTP request sent, awaiting response... 200 OK\n",
      "Length: 1427002 (1.4M) [binary/octet-stream]\n",
      "Saving to: ‘green_tripdata_2023-01.parquet.1’\n",
      "\n",
      "green_tripdata_2023 100%[===================>]   1.36M  2.20MB/s    in 0.6s    \n",
      "\n",
      "2025-05-26 05:44:21 (2.20 MB/s) - ‘green_tripdata_2023-01.parquet.1’ saved [1427002/1427002]\n",
      "\n",
      "--2025-05-26 05:44:21--  https://d37ci6vzurychx.cloudfront.net/trip-data/green_tripdata_2023-02.parquet\n",
      "Resolving d37ci6vzurychx.cloudfront.net (d37ci6vzurychx.cloudfront.net)... 3.164.82.197, 3.164.82.40, 3.164.82.160, ...\n",
      "Connecting to d37ci6vzurychx.cloudfront.net (d37ci6vzurychx.cloudfront.net)|3.164.82.197|:443... connected.\n",
      "HTTP request sent, awaiting response... 200 OK\n",
      "Length: 1533740 (1.5M) [binary/octet-stream]\n",
      "Saving to: ‘green_tripdata_2023-02.parquet’\n",
      "\n",
      "green_tripdata_2023 100%[===================>]   1.46M  2.44MB/s    in 0.6s    \n",
      "\n",
      "2025-05-26 05:44:22 (2.44 MB/s) - ‘green_tripdata_2023-02.parquet’ saved [1533740/1533740]\n",
      "\n",
      "--2025-05-26 05:44:23--  https://d37ci6vzurychx.cloudfront.net/trip-data/green_tripdata_2023-03.parquet\n",
      "Resolving d37ci6vzurychx.cloudfront.net (d37ci6vzurychx.cloudfront.net)... 3.164.82.160, 3.164.82.197, 3.164.82.112, ...\n",
      "Connecting to d37ci6vzurychx.cloudfront.net (d37ci6vzurychx.cloudfront.net)|3.164.82.160|:443... connected.\n",
      "HTTP request sent, awaiting response... 200 OK\n",
      "Length: 1730999 (1.7M) [binary/octet-stream]\n",
      "Saving to: ‘green_tripdata_2023-03.parquet’\n",
      "\n",
      "green_tripdata_2023 100%[===================>]   1.65M  2.51MB/s    in 0.7s    \n",
      "\n",
      "2025-05-26 05:44:24 (2.51 MB/s) - ‘green_tripdata_2023-03.parquet’ saved [1730999/1730999]\n",
      "\n"
     ]
    }
   ],
   "source": [
    "!wget https://d37ci6vzurychx.cloudfront.net/trip-data/green_tripdata_2023-01.parquet\n",
    "!wget https://d37ci6vzurychx.cloudfront.net/trip-data/green_tripdata_2023-02.parquet\n",
    "!wget https://d37ci6vzurychx.cloudfront.net/trip-data/green_tripdata_2023-03.parquet"
   ]
  },
  {
   "cell_type": "code",
   "execution_count": 1,
   "id": "0a0834d8",
   "metadata": {},
   "outputs": [],
   "source": [
    "!python preprocess_data.py --raw_data_path /workspaces/mlops-zoomcamp/02-experiment-tracking/homework-2/TAXI_DATA_FOLDER --dest_path ./output"
   ]
  },
  {
   "cell_type": "code",
   "execution_count": 2,
   "id": "b9866cbe",
   "metadata": {},
   "outputs": [
    {
     "name": "stdout",
     "output_type": "stream",
     "text": [
      "total 7016\n",
      "-rw-rw-rw- 1 codespace codespace  131004 May 26 06:45 dv.pkl\n",
      "-rw-rw-rw- 1 codespace codespace 2458698 May 26 06:45 test.pkl\n",
      "-rw-rw-rw- 1 codespace codespace 2374518 May 26 06:45 train.pkl\n",
      "-rw-rw-rw- 1 codespace codespace 2215824 May 26 06:45 val.pkl\n"
     ]
    }
   ],
   "source": [
    "! ls -l output"
   ]
  },
  {
   "cell_type": "code",
   "execution_count": 6,
   "id": "06dcfeef",
   "metadata": {},
   "outputs": [],
   "source": [
    "import mlflow"
   ]
  },
  {
   "cell_type": "code",
   "execution_count": 7,
   "id": "cce7f17b",
   "metadata": {},
   "outputs": [],
   "source": [
    "mlflow.set_experiment(\"mlflow-homework\")\n",
    "mlflow.set_tracking_uri(\"http://127.0.0.1:5000/\")"
   ]
  },
  {
   "cell_type": "code",
   "execution_count": 8,
   "id": "403c680a",
   "metadata": {},
   "outputs": [
    {
     "name": "stdout",
     "output_type": "stream",
     "text": [
      "2025/05/26 09:53:38 INFO mlflow.tracking.fluent: Autologging successfully enabled for sklearn.\n",
      "2025/05/26 09:53:38 INFO mlflow.tracking.fluent: Experiment with name 'mlflow-homework' does not exist. Creating a new experiment.\n",
      "🏃 View run skittish-finch-427 at: http://127.0.0.1:5000/#/experiments/1/runs/f9cfcedae7df424fb6daf45ea5f702d4\n",
      "🧪 View experiment at: http://127.0.0.1:5000/#/experiments/1\n"
     ]
    }
   ],
   "source": [
    "!python train.py"
   ]
  },
  {
   "cell_type": "code",
   "execution_count": 10,
   "id": "c794f87d",
   "metadata": {},
   "outputs": [],
   "source": [
    "# min_samples_split 2\n",
    "# default-artifact-root"
   ]
  },
  {
   "cell_type": "code",
   "execution_count": 11,
   "id": "5e4ba847",
   "metadata": {},
   "outputs": [
    {
     "name": "stdout",
     "output_type": "stream",
     "text": [
      "2025/05/26 10:14:14 INFO mlflow.tracking.fluent: Experiment with name 'random-forest-hyperopt' does not exist. Creating a new experiment.\n",
      "🏃 View run illustrious-sloth-47 at: http://127.0.0.1:5000/#/experiments/1/runs/4e1647762ddc4bfda616770d94160528\n",
      "\n",
      "🧪 View experiment at: http://127.0.0.1:5000/#/experiments/1                    \n",
      "\n",
      "🏃 View run efficient-elk-372 at: http://127.0.0.1:5000/#/experiments/1/runs/a5dc54d4339f422ea1b252bae1a05079\n",
      "\n",
      "🧪 View experiment at: http://127.0.0.1:5000/#/experiments/1                    \n",
      "\n",
      "🏃 View run judicious-toad-583 at: http://127.0.0.1:5000/#/experiments/1/runs/b0be4d7dca0948998d5cd8527b14affe\n",
      "\n",
      "🧪 View experiment at: http://127.0.0.1:5000/#/experiments/1                    \n",
      "\n",
      "🏃 View run puzzled-seal-665 at: http://127.0.0.1:5000/#/experiments/1/runs/3c48dd5ce7a7401fb514ec3d25fa476f\n",
      "\n",
      "🧪 View experiment at: http://127.0.0.1:5000/#/experiments/1                    \n",
      "\n",
      "🏃 View run skillful-finch-360 at: http://127.0.0.1:5000/#/experiments/1/runs/038381024c424a62b569e73a9c27c5a0\n",
      "\n",
      "🧪 View experiment at: http://127.0.0.1:5000/#/experiments/1                    \n",
      "\n",
      "🏃 View run gifted-eel-548 at: http://127.0.0.1:5000/#/experiments/1/runs/c6f00fdf9d8b47da87851f117b70a56c\n",
      "\n",
      "🧪 View experiment at: http://127.0.0.1:5000/#/experiments/1                    \n",
      "\n",
      "🏃 View run painted-snail-127 at: http://127.0.0.1:5000/#/experiments/1/runs/568601e6f7304b5cb151e78ad4837b91\n",
      "\n",
      "🧪 View experiment at: http://127.0.0.1:5000/#/experiments/1                    \n",
      "\n",
      "🏃 View run useful-shark-562 at: http://127.0.0.1:5000/#/experiments/1/runs/8ba564ab9c2f41faa926e47d49e0aac4\n",
      "\n",
      "🧪 View experiment at: http://127.0.0.1:5000/#/experiments/1                    \n",
      "\n",
      "🏃 View run resilient-fish-413 at: http://127.0.0.1:5000/#/experiments/1/runs/07a238e5c7964ccd84aef73fc76a8539\n",
      "\n",
      "🧪 View experiment at: http://127.0.0.1:5000/#/experiments/1                    \n",
      "\n",
      "🏃 View run lyrical-gull-372 at: http://127.0.0.1:5000/#/experiments/1/runs/c30a06e5775f4185ba67ffbea8599c71\n",
      "\n",
      "🧪 View experiment at: http://127.0.0.1:5000/#/experiments/1                    \n",
      "\n",
      "🏃 View run puzzled-chimp-718 at: http://127.0.0.1:5000/#/experiments/1/runs/e91fac558c654dfe9857813cafebb714\n",
      "\n",
      "🧪 View experiment at: http://127.0.0.1:5000/#/experiments/1                    \n",
      "\n",
      "🏃 View run trusting-dove-508 at: http://127.0.0.1:5000/#/experiments/1/runs/3663e2f8ed74491fb59cd10dbbf1efa6\n",
      "\n",
      "🧪 View experiment at: http://127.0.0.1:5000/#/experiments/1                    \n",
      "\n",
      "🏃 View run caring-horse-940 at: http://127.0.0.1:5000/#/experiments/1/runs/a26438b52a3341e1a9bfaa39550da14f\n",
      "\n",
      "🧪 View experiment at: http://127.0.0.1:5000/#/experiments/1                    \n",
      "\n",
      "🏃 View run capricious-duck-259 at: http://127.0.0.1:5000/#/experiments/1/runs/a6afb08c081f4d9bb56b5cb28bcb4c77\n",
      "\n",
      "🧪 View experiment at: http://127.0.0.1:5000/#/experiments/1                    \n",
      "\n",
      "🏃 View run valuable-skink-410 at: http://127.0.0.1:5000/#/experiments/1/runs/7b9f82e586e0487a84f5c3ada13e0a3f\n",
      "\n",
      "🧪 View experiment at: http://127.0.0.1:5000/#/experiments/1                    \n",
      "\n",
      "100%|██████████| 15/15 [01:03<00:00,  4.24s/trial, best loss: 5.335419588556921]\n"
     ]
    }
   ],
   "source": [
    "!python hpo.py"
   ]
  },
  {
   "cell_type": "code",
   "execution_count": 12,
   "id": "22890d73",
   "metadata": {},
   "outputs": [],
   "source": [
    "#RMSE : 5.335"
   ]
  },
  {
   "cell_type": "code",
   "execution_count": 15,
   "id": "3ccde3da",
   "metadata": {},
   "outputs": [
    {
     "name": "stdout",
     "output_type": "stream",
     "text": [
      "🏃 View run grandiose-koi-547 at: http://127.0.0.1:5000/#/experiments/2/runs/335df404fcf5472287881b270f33ceb2\n",
      "🧪 View experiment at: http://127.0.0.1:5000/#/experiments/2\n",
      "Traceback (most recent call last):\n",
      "  File \"/workspaces/mlops-zoomcamp/02-experiment-tracking/homework-2/register_model.py\", line 94, in <module>\n",
      "    run_register_model()\n",
      "  File \"/home/codespace/anaconda3/envs/mlflow-work/lib/python3.9/site-packages/click/core.py\", line 1161, in __call__\n",
      "    return self.main(*args, **kwargs)\n",
      "  File \"/home/codespace/anaconda3/envs/mlflow-work/lib/python3.9/site-packages/click/core.py\", line 1082, in main\n",
      "    rv = self.invoke(ctx)\n",
      "  File \"/home/codespace/anaconda3/envs/mlflow-work/lib/python3.9/site-packages/click/core.py\", line 1443, in invoke\n",
      "    return ctx.invoke(self.callback, **ctx.params)\n",
      "  File \"/home/codespace/anaconda3/envs/mlflow-work/lib/python3.9/site-packages/click/core.py\", line 788, in invoke\n",
      "    return __callback(*args, **kwargs)\n",
      "  File \"/workspaces/mlops-zoomcamp/02-experiment-tracking/homework-2/register_model.py\", line 76, in run_register_model\n",
      "    train_and_log_model(data_path=data_path, params=run.data.params)\n",
      "  File \"/workspaces/mlops-zoomcamp/02-experiment-tracking/homework-2/register_model.py\", line 38, in train_and_log_model\n",
      "    raise ValueError(f\"Missing parameter '{param}' in run params: {params}\")\n",
      "ValueError: Missing parameter 'max_depth' in run params: {}\n"
     ]
    }
   ],
   "source": [
    "!python register_model.py"
   ]
  },
  {
   "cell_type": "markdown",
   "id": "cb366170",
   "metadata": {},
   "source": []
  },
  {
   "cell_type": "code",
   "execution_count": null,
   "id": "3ca80257",
   "metadata": {},
   "outputs": [],
   "source": []
  }
 ],
 "metadata": {
  "kernelspec": {
   "display_name": "mlflow-work",
   "language": "python",
   "name": "python3"
  },
  "language_info": {
   "codemirror_mode": {
    "name": "ipython",
    "version": 3
   },
   "file_extension": ".py",
   "mimetype": "text/x-python",
   "name": "python",
   "nbconvert_exporter": "python",
   "pygments_lexer": "ipython3",
   "version": "3.9.21"
  }
 },
 "nbformat": 4,
 "nbformat_minor": 5
}
